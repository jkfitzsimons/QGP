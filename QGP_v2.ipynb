{
 "cells": [
  {
   "cell_type": "code",
   "execution_count": 9,
   "metadata": {
    "collapsed": false
   },
   "outputs": [
    {
     "name": "stdout",
     "output_type": "stream",
     "text": [
      "Choose a dataset:\n",
      "0 abalone\n",
      "1 wine quality (white)\n",
      "2 roads\n",
      "3 air quality\n",
      "4 sea tempeture\n",
      "5 agromet\n",
      "select dataset to use by index 1\n"
     ]
    }
   ],
   "source": [
    "%pylab inline\n",
    "import matplotlib.pyplot as plt\n",
    "\n",
    "import numpy as np\n",
    "import sys\n",
    "sys.path.append('./Datasets')\n",
    "import PythonScripts.loadData as loadData\n",
    "import time\n",
    "\n",
    "print 'Choose a dataset:'\n",
    "names = loadData.getDataSetNames()\n",
    "for i, ds in enumerate(names):\n",
    "    print i, ds\n",
    "    \n",
    "ds_num = input('select dataset to use by index ')\n",
    "\n",
    "x_tr, x_te, y_tr, y_te = loadData.getDataSet(names[ds_num])"
   ]
  },
  {
   "cell_type": "code",
   "execution_count": 10,
   "metadata": {
    "collapsed": false
   },
   "outputs": [],
   "source": [
    "'''\n",
    "Zero Mean, Unit Variance the dataset\n",
    "'''\n",
    "\n",
    "for i, y_ in enumerate(y_tr):\n",
    "    my = np.mean(y_)\n",
    "    sy = np.std(y_)\n",
    "    y_te[i] = (y_te[i] - my)/sy\n",
    "    y_tr[i] = (y_tr[i] - my)/sy\n"
   ]
  },
  {
   "cell_type": "code",
   "execution_count": null,
   "metadata": {
    "collapsed": false
   },
   "outputs": [],
   "source": [
    "'''\n",
    "Perform Approximate Gaussian Process\n",
    "'''\n",
    "\n",
    "# To be filled with predictions, require for the Calculate Performance block\n",
    "y_mean = []\n",
    "y_var = []\n",
    "nlml = []\n",
    "times = []\n",
    "\n",
    "for i in xrange(4):    \n",
    "    # Training data\n",
    "    x = x_tr[i].reshape(-1,2)\n",
    "    y = y_tr[i]\n",
    "    \n",
    "    # Testing data\n",
    "    x_ = x_te[i].reshape(-1,2)\n",
    "    \n",
    "    print x.shape, y.shape, x_.shape\n",
    "    \n",
    "    ### Algorithm Start\n",
    "    m, v ,n  = method(x,y,x_)\n",
    "\n",
    "    y_mean.append(m)\n",
    "    y_var.append(v)\n",
    "    nlml.append(n)\n",
    "    \n",
    "    ### Algorithm Finish\n"
   ]
  },
  {
   "cell_type": "code",
   "execution_count": 40,
   "metadata": {
    "collapsed": false
   },
   "outputs": [
    {
     "data": {
      "text/html": [
       "<table width=100%><tr><td><em>CV Fold</em></td><td><em>RMSE</em></td><td><em>NLML</em></td><td><em>Predictive LL</em></td><td><em>Wall Clock Time</em></td></tr><tr><td>0</td><td>0.999287226998</td><td>-2.0641645358</td><td>-1.623581124</td><td>1.01332402229</td></tr><tr><td>1</td><td>0.998388238074</td><td>-3.57391759439</td><td>-1.6208692447</td><td>1.01218795776</td></tr><tr><td>2</td><td>0.997973005453</td><td>-11.9306861943</td><td>-1.62331751667</td><td>1.01360607147</td></tr><tr><td>3</td><td>0.997238251748</td><td>-2.17977827002</td><td>-1.62036003043</td><td>1.01304316521</td></tr></table>"
      ],
      "text/plain": [
       "[['<em>CV Fold</em>',\n",
       "  '<em>RMSE</em>',\n",
       "  '<em>NLML</em>',\n",
       "  '<em>Predictive LL</em>',\n",
       "  '<em>Wall Clock Time</em>'],\n",
       " [0,\n",
       "  0.99928722699834094,\n",
       "  -2.0641645358023086,\n",
       "  -1.6235811240021056,\n",
       "  1.0133240222930908],\n",
       " [1,\n",
       "  0.99838823807431076,\n",
       "  -3.5739175943888513,\n",
       "  -1.6208692447004558,\n",
       "  1.0121879577636719],\n",
       " [2,\n",
       "  0.99797300545310508,\n",
       "  -11.930686194305203,\n",
       "  -1.6233175166650904,\n",
       "  1.013606071472168],\n",
       " [3,\n",
       "  0.99723825174792113,\n",
       "  -2.1797782700231605,\n",
       "  -1.6203600304251171,\n",
       "  1.0130431652069092]]"
      ]
     },
     "execution_count": 40,
     "metadata": {},
     "output_type": "execute_result"
    }
   ],
   "source": [
    "'''\n",
    "Calculate Performance\n",
    "'''\n",
    "\n",
    "class ListTable(list):\n",
    "    \"\"\" Overridden list class which takes a 2-dimensional list of \n",
    "        the form [[1,2,3],[4,5,6]], and renders an HTML Table in \n",
    "        IPython Notebook. \"\"\"\n",
    "    \n",
    "    def _repr_html_(self):\n",
    "        html = [\"<table width=100%>\"]\n",
    "        for row in self:\n",
    "            html.append(\"<tr>\")\n",
    "            \n",
    "            for col in row:\n",
    "                html.append(\"<td>{0}</td>\".format(col))\n",
    "            \n",
    "            html.append(\"</tr>\")\n",
    "        html.append(\"</table>\")\n",
    "        return ''.join(html)\n",
    "\n",
    "table = ListTable()\n",
    "table.append(['<em>CV Fold</em>', '<em>RMSE</em>', '<em>NLML</em>', '<em>Predictive LL</em>'])\n",
    "\n",
    "for i in xrange(4):\n",
    "    \n",
    "    # Calculate RMSE\n",
    "    rmse = np.mean((y_mean[i] - y_te[i])**2)**0.5\n",
    "    \n",
    "    # Calculate Predictive LL\n",
    "    pll = np.mean(-0.5*(y_mean[i] - y_te[i])**2/y_var[i] - 0.5*np.log(2*np.pi*y_var[i]))\n",
    "    \n",
    "    table.append([i, rmse, nlml[i], pll])\n",
    "table"
   ]
  },
  {
   "cell_type": "code",
   "execution_count": 44,
   "metadata": {
    "collapsed": false
   },
   "outputs": [
    {
     "name": "stdout",
     "output_type": "stream",
     "text": [
      "Enter name to be saved as:Demo\n",
      "Results/Demotable.p\n"
     ]
    }
   ],
   "source": [
    "'''\n",
    "Save Performance Results (Optional)\n",
    "'''\n",
    "\n",
    "import pickle\n",
    "import os\n",
    "\n",
    "name = raw_input('Enter name to be saved as:')\n",
    "name = 'Results/'+name\n",
    "if not os.path.isdir(name):\n",
    "   os.makedirs(name)\n",
    "\n",
    "pickle.dump( table, open( name+\"/table.p\", \"wb\" ) )\n",
    "pickle.dump( y_mean, open( name+\"/y_mean.p\", \"wb\" ) )\n",
    "pickle.dump( y_var, open( name+\"/y_var.p\", \"wb\" ) )\n"
   ]
  }
 ],
 "metadata": {
  "kernelspec": {
   "display_name": "Python 2",
   "language": "python",
   "name": "python2"
  },
  "language_info": {
   "codemirror_mode": {
    "name": "ipython",
    "version": 2
   },
   "file_extension": ".py",
   "mimetype": "text/x-python",
   "name": "python",
   "nbconvert_exporter": "python",
   "pygments_lexer": "ipython2",
   "version": "2.7.6"
  }
 },
 "nbformat": 4,
 "nbformat_minor": 0
}
