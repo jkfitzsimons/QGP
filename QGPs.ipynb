{
 "cells": [
  {
   "cell_type": "markdown",
   "metadata": {},
   "source": [
    "#Quantum Assisted Gaussian Process Simulations\n",
    "\n",
    "This work book endeavours to simular Quantum Assisted Gaussian Processes (http://arxiv.org/abs/1512.03929). The code simulates the variance induced by the quantum system when using naturally sparse kernels.\n"
   ]
  },
  {
   "cell_type": "code",
   "execution_count": 1,
   "metadata": {
    "collapsed": false
   },
   "outputs": [
    {
     "name": "stdout",
     "output_type": "stream",
     "text": [
      "Populating the interactive namespace from numpy and matplotlib\n"
     ]
    }
   ],
   "source": [
    "import sys\n",
    "import os\n",
    "import numpy as np\n",
    "%pylab inline\n",
    "import matplotlib.pyplot as plt"
   ]
  },
  {
   "cell_type": "markdown",
   "metadata": {},
   "source": [
    "## Kernels\n",
    "\n",
    "We will use three kernels which lead to sparse covariance matrices. The first is from [MacKay](http://www.inference.eng.cam.ac.uk/mackay/gp.pdf):\n",
    "\n",
    "$k(x,x')= 1 - |x-'x|/d,$ if $|x-'x|<d$\n",
    "\n",
    "$k(x,x')= 0,$ otherwise\n",
    "\n",
    "The second is from [Storkey](https://www.researchgate.net/profile/Amos_Storkey/publication/3835514_Truncated_covariance_matrices_and_Toeplitz_methods_in_Gaussian_processes/links/02bfe5120657a2b20f000000.pdf):\n",
    "\n",
    "$k(x,x')= 1 + cos(|x-'x|/d),$ if $|x-'x|/d<\\pi$\n",
    "\n",
    "$k(x,x')= 0,$ otherwise\n",
    "\n",
    "Finally, the third is from [Melkumyan](https://www.aaai.org/ocs/index.php/IJCAI/IJCAI-09/paper/viewFile/630/840):\n",
    "\n",
    "$k(x,x')= \\frac{1 - cos(2\\pi \\frac{|x-'x|}{d})}{3}(1 - \\frac{|x-'x|}{d}) + \\frac{1}{2\\pi}sin(2\\pi \\frac{|x-'x|}{d}),$ if $|x-'x|<d$\n",
    "\n",
    "$k(x,x')= 0,$ otherwise\n",
    "\n",
    "The latter two kernels have very similar properties to the gaussian kernel (also known as the square exponential or rbf kernel).\n",
    "\n",
    "Each of these kernels may be multiplied by a constant $\\sigma^2$ which can be optimised during training. We also note that adding i.i.d. noise does not effect the sparsity. This noise $\\sigma_n^2$ will also be optimised."
   ]
  },
  {
   "cell_type": "code",
   "execution_count": 2,
   "metadata": {
    "collapsed": true
   },
   "outputs": [],
   "source": [
    "# Define the kernel functions\n",
    "\n",
    "def kernel_mackay(x, y, d):\n",
    "    if np.abs(x-y) < d:\n",
    "        return 1 - np.abs((x-y)/d)\n",
    "    else:\n",
    "        return 0\n",
    "    \n",
    "def kernel_storkey(x, y, d):\n",
    "    if np.abs(x-y) < d*np.pi:\n",
    "        return 1 + np.cos((x-y)/d)\n",
    "    else:\n",
    "        return 0 \n",
    "    \n",
    "def kernel_storkey(x, y, d):\n",
    "    if np.abs(x-y) < d*np.pi:\n",
    "        return (1 + np.cos(np.abs(x-y)/d))*(1 - np.abs(x-y)/d)/3 + np.sin(np.abs(x-y)/d)/(2*np.pi)\n",
    "    else:\n",
    "        return 0 \n",
    "    \n",
    "# Plot the kernels so we can see what we are working with\n",
    "\n",
    "\n",
    "# Plot some draws from their function spaces"
   ]
  },
  {
   "cell_type": "markdown",
   "metadata": {},
   "source": [
    "## Datasets\n",
    "\n",
    "We will check out three datasets where we might expect GPs using the above functions to model the data reasonably well.\n",
    "\n",
    "### Property Dataset\n",
    "### Airplane Dataset\n",
    "### Land Altitude Dataset"
   ]
  },
  {
   "cell_type": "code",
   "execution_count": null,
   "metadata": {
    "collapsed": true
   },
   "outputs": [],
   "source": []
  }
 ],
 "metadata": {
  "kernelspec": {
   "display_name": "Python 2",
   "language": "python",
   "name": "python2"
  },
  "language_info": {
   "codemirror_mode": {
    "name": "ipython",
    "version": 2
   },
   "file_extension": ".py",
   "mimetype": "text/x-python",
   "name": "python",
   "nbconvert_exporter": "python",
   "pygments_lexer": "ipython2",
   "version": "2.7.6"
  }
 },
 "nbformat": 4,
 "nbformat_minor": 0
}
